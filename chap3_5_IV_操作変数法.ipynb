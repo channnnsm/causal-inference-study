{
  "nbformat": 4,
  "nbformat_minor": 0,
  "metadata": {
    "colab": {
      "provenance": []
    },
    "kernelspec": {
      "name": "python3",
      "display_name": "Python 3"
    },
    "language_info": {
      "name": "python"
    }
  },
  "cells": [
    {
      "cell_type": "markdown",
      "source": [
        "# 操作変数法(Instrumental Variable methods: IV)\n",
        "\n",
        "\n",
        "*   観測された変数を制御するための傾向スコア分析とは異なり、操作変数法では未観測の交絡因子を対処する\n",
        "*   ここで使用される操作変数は、処置変数や交絡因子とは異なり、結果変数に直接影響を与えないと見なされる\n",
        "*   代わりに、操作変数は処置変数のみに影響を与える\n",
        "*   操作変数法は操作変数zを用いることで、間接的にRCTに近い状況を作り出し、因果効果を推定する方法\n",
        "\n",
        "\n",
        "\n",
        "\n",
        "\n"
      ],
      "metadata": {
        "id": "lDyulPAnRqnc"
      }
    },
    {
      "cell_type": "code",
      "execution_count": null,
      "metadata": {
        "colab": {
          "base_uri": "https://localhost:8080/"
        },
        "id": "g7UZOGiIM3j7",
        "outputId": "e1794e32-3381-4080-c69d-330b400d0908"
      },
      "outputs": [
        {
          "output_type": "stream",
          "name": "stdout",
          "text": [
            "                          IV2SLS Regression Results                           \n",
            "==============================================================================\n",
            "Dep. Variable:                      Y   R-squared:                       0.652\n",
            "Model:                         IV2SLS   Adj. R-squared:                  0.651\n",
            "Method:                     Two Stage   F-statistic:                     902.4\n",
            "                        Least Squares   Prob (F-statistic):          9.68e-142\n",
            "Date:                Thu, 07 Mar 2024                                         \n",
            "Time:                        11:15:24                                         \n",
            "No. Observations:                1000                                         \n",
            "Df Residuals:                     998                                         \n",
            "Df Model:                           1                                         \n",
            "==============================================================================\n",
            "                 coef    std err          t      P>|t|      [0.025      0.975]\n",
            "------------------------------------------------------------------------------\n",
            "const          0.0105      0.031      0.342      0.733      -0.050       0.071\n",
            "T              0.9679      0.032     30.040      0.000       0.905       1.031\n",
            "==============================================================================\n",
            "Omnibus:                        1.172   Durbin-Watson:                   2.079\n",
            "Prob(Omnibus):                  0.557   Jarque-Bera (JB):                1.243\n",
            "Skew:                           0.058   Prob(JB):                        0.537\n",
            "Kurtosis:                       2.872   Cond. No.                         1.36\n",
            "==============================================================================\n"
          ]
        }
      ],
      "source": [
        "# 使用するライブラリのインポート\n",
        "import numpy as np\n",
        "import pandas as pd\n",
        "import statsmodels.api as sm\n",
        "from statsmodels.sandbox.regression.gmm import IV2SLS\n",
        "\n",
        "# 再現性のためのシードを設定\n",
        "np.random.seed(0)\n",
        "\n",
        "# サンプルデータを生成\n",
        "n = 1000  # 観測値の数\n",
        "Z = np.random.normal(size=n)  # 操作変数\n",
        "u = np.random.normal(size=n)  # 誤差項\n",
        "T = Z + np.random.normal(size=n)  # 処置変数\n",
        "Y = T + u  # 結果変数\n",
        "\n",
        "# DataFrameを作成\n",
        "df = pd.DataFrame({\n",
        "    'Y': Y,\n",
        "    'T': T,\n",
        "    'Z': Z,\n",
        "    'u': u\n",
        "})\n",
        "\n",
        "# 結果変数を定義\n",
        "Y = df['Y']\n",
        "\n",
        "# 処置変数を定義\n",
        "T = sm.add_constant(df['T'])\n",
        "\n",
        "# 操作変数を定義\n",
        "Z = sm.add_constant(df['Z'])\n",
        "\n",
        "# 操作変数法を適用\n",
        "iv = IV2SLS(Y, T, Z).fit()\n",
        "\n",
        "# 回帰のサマリーを出力\n",
        "print(iv.summary())"
      ]
    },
    {
      "cell_type": "markdown",
      "source": [
        "# 操作変数法の課題\n",
        "\n",
        "## 操作変数の存在が稀かつ検証が必要なことへの対応が必要\n",
        "- 設定された操作変数が処置変数と強い相関を持つ場合に信頼性のある因果効果が可能だが、見つけづらい\n",
        "- しかも、その操作変数が結果変数と直接的な関連性を持たないことを確認しないといけない\n",
        "\n",
        "## 弱操作変数に起因する不正確な推定への対応が必要\n",
        "- 弱操作変数が推定に使用されると正確な推定結果が得られない"
      ],
      "metadata": {
        "id": "aZOUWWJ6ThSU"
      }
    }
  ]
}