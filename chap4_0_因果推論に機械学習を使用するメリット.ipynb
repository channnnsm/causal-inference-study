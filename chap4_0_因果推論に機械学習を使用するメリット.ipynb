{
  "nbformat": 4,
  "nbformat_minor": 0,
  "metadata": {
    "colab": {
      "provenance": [],
      "toc_visible": true,
      "authorship_tag": "ABX9TyMOTV/P88W2dSoypaO4sx7B"
    },
    "kernelspec": {
      "name": "python3",
      "display_name": "Python 3"
    },
    "language_info": {
      "name": "python"
    }
  },
  "cells": [
    {
      "cell_type": "markdown",
      "source": [
        "\n",
        "# 因果推論に機械学習を使用するメリット\n",
        "\n",
        "\n",
        "-   クロスバリデーションやグリッドサーチなどの自動化された手順を用いてモデル選択が可能\n",
        "-   膨大な共変量を考慮することで、観測対象に対する識別仮定の妥当性が向上\n",
        "\n",
        "\n",
        "---\n",
        "\n",
        "## **1. CATEやITEを考慮した因果効果の推定**\n",
        "- 予算の都合上、施策を実施できる対象が限られていて、効果の高い対象に優先して施策を実施したいとき\n",
        "- 効果が正に作用する対照のみに施策を実施したいとき\n",
        "\n",
        "## **2. 非線形データに対応した推定**\n",
        "- 複雑な関数系への対応したいとき（例: 説明変数が多すぎ重回帰分析だと対応できない）\n",
        "- 機械学習を用いた分析結果の解釈を行いたいとき（例: 結果変数にどの変数がどの程度寄与しているか）\n"
      ],
      "metadata": {
        "id": "N-zb-1Zb8Npt"
      }
    }
  ]
}