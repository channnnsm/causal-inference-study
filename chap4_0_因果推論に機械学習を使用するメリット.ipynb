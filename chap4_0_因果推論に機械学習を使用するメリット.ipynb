{
  "nbformat": 4,
  "nbformat_minor": 0,
  "metadata": {
    "colab": {
      "provenance": [],
      "toc_visible": true,
      "authorship_tag": "ABX9TyNDO3y3zdaN8QdhKdBn1zk8"
    },
    "kernelspec": {
      "name": "python3",
      "display_name": "Python 3"
    },
    "language_info": {
      "name": "python"
    }
  },
  "cells": [
    {
      "cell_type": "markdown",
      "source": [
        "\n",
        "# 因果推論に機械学習を使用するメリット\n",
        "\n",
        "\n",
        "-   クロスバリデーションやグリッドサーチなどの自動化された手順を用いてモデル選択が可能\n",
        "-   膨大な共変量を考慮することで、観測対象に対する識別仮定の妥当性が向上\n"
      ],
      "metadata": {
        "id": "N-zb-1Zb8Npt"
      }
    },
    {
      "cell_type": "markdown",
      "source": [
        "## 1.CATEやITEを考慮した因果効果の推定\n",
        "- 予算の都合上、施策を実施できる対象が限られていて、効果の高い対象に優先して施策を実施したいとき\n",
        "- 効果が正に作用する対照のみに施策を実施したいとき\n",
        "\n"
      ],
      "metadata": {
        "id": "rmfpCynbPk-N"
      }
    },
    {
      "cell_type": "markdown",
      "source": [
        "## 2.非線形データに対応した推定\n",
        "- 複雑な関数系への対応したいとき（例: 説明変数が多すぎ重回帰分析だと対応できない）\n",
        "- 機械学習を用いた分析結果の解釈を行いたいとき（例: 結果変数にどの変数がどの程度寄与しているか）"
      ],
      "metadata": {
        "id": "Vz5LS9PZPn4L"
      }
    },
    {
      "cell_type": "markdown",
      "source": [
        "# 因果推論に機械学習を使用する際の注意点"
      ],
      "metadata": {
        "id": "ybozRFHiPyma"
      }
    },
    {
      "cell_type": "markdown",
      "source": [
        "## 識別仮定に関する注意点"
      ],
      "metadata": {
        "id": "QsT1V6WkP3aD"
      }
    },
    {
      "cell_type": "markdown",
      "source": [
        "### 1.交絡因子により因果関係を誤る可能性がある\n",
        "- 対策: 交絡因子を特定し調整するために、DAGを用いて因果構造を明確化する\n",
        "- 傾向スコアマッチングや逆確率重み付けを用いる\n",
        "- 例: 喫煙が肺がんに与える影響を調査する場合、年齢や既往症などの交絡因子を考慮するために傾向スコアマッチングを適用する"
      ],
      "metadata": {
        "id": "jl1zyiBBQDcp"
      }
    },
    {
      "cell_type": "markdown",
      "source": [
        "### 2.処置変数が独立でない可能性がある\n",
        "- 自然実験を利用し、操作変数（Instrumental Variable; IV）を用いることで因果推定を行う\n",
        "- 操作変数の強さと有効性をテストする（例: Sargan検定）\n",
        "- 例: 教育年数が収入に与える因果関係を分析する際、出生月を操作変数として利用することで、教育年数の外因性を担保する"
      ],
      "metadata": {
        "id": "uQ4X0D6oQUtP"
      }
    },
    {
      "cell_type": "markdown",
      "source": [
        "## 推定に関する注意点"
      ],
      "metadata": {
        "id": "IoViT1VLQVYY"
      }
    },
    {
      "cell_type": "markdown",
      "source": [
        "### 3.学習時と予測時においてデータの性質が異なる可能性がある(分布シフトの発生)\n",
        "\n",
        "- トレーニングデータとテストデータの分布差を検出するためにCovariate ShiftやConcept Drift検出手法を活用する\n",
        "- 再学習（Re-training）やドメイン適応（Domain Adaptation）を導入する\n",
        "- 例: マーケティングキャンペーンの効果を予測するモデルで、トレーニングデータは旧キャンペーンから収集された場合、新しいキャンペーンに基づく分布シフトを考慮してモデルを更新する"
      ],
      "metadata": {
        "id": "dEoLm8wyQdJX"
      }
    },
    {
      "cell_type": "markdown",
      "source": [
        "### 4.過適合と正則化バイアスが生じている可能性がある\n",
        "- 対策: 過適合を防ぐために、交差検証（Cross Validation）やベイズ情報量基準（BIC）を使用する\n",
        "- モデルの複雑さを適切に制御するため、L1正則化（Lasso）やL2正則化（Ridge）を活用する\n",
        "- 例: CATEの推定において、モデルが過剰に複雑化しないようランダムフォレストや回帰木を正則化付きで利用する"
      ],
      "metadata": {
        "id": "EODQ6HAvQjD5"
      }
    },
    {
      "cell_type": "markdown",
      "source": [
        "### 5.データの質が悪く、CATEを推定できない可能性がある"
      ],
      "metadata": {
        "id": "uGwsQZW9Qq1b"
      }
    },
    {
      "cell_type": "markdown",
      "source": [
        "## 結果およびモデルの解釈・公平性に関する注意点\n",
        "- 対策: 欠損データ処理や異常値検出を実施する\n",
        "- 外れ値にロバストな推定手法（例: RANSAC）を採用する\n",
        "- 例: 医療データを用いて治療効果を推定する際、不完全な電子カルテデータを前処理することで信頼性を向上させる"
      ],
      "metadata": {
        "id": "r6Qs-oiSQxBr"
      }
    },
    {
      "cell_type": "markdown",
      "source": [
        "### 6.モデルが複雑になり、解釈・説明の難易度が上がる\n",
        "- 対策: SHAP（SHapley Additive exPlanations）やLIME（Local Interpretable Model-agnostic Explanations）を用いて解釈性を向上させる\n",
        "- 簡潔で解釈可能なモデル（例: 線形回帰や因果木）を優先的に利用する\n",
        "- 例: CATE推定において、XGBoostを用いた場合、SHAP値を算出して各因子の重要度を可視化する"
      ],
      "metadata": {
        "id": "ObKqzxSUQ1Fs"
      }
    },
    {
      "cell_type": "markdown",
      "source": [
        "### 7.不当な差別を助長する予測を行う可能性がある\n",
        "- 対策: 公平性指標（Fairness Metrics; 例: Demographic ParityやEqual Opportunity）を用いてモデルの公平性を評価する\n",
        "- 偏りのあるデータを補正するため、再サンプリングやFairness-aware学習を活用する\n",
        "- 例: ローン承認モデルで、性別や人種に基づく不公平な結果が生じていないかを確認し、不公平性が確認された場合はデータ再サンプリングで偏りを軽減する"
      ],
      "metadata": {
        "id": "98cS1GmtQ5Dx"
      }
    }
  ]
}