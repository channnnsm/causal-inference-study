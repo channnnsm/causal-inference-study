{
  "nbformat": 4,
  "nbformat_minor": 0,
  "metadata": {
    "colab": {
      "provenance": []
    },
    "kernelspec": {
      "name": "python3",
      "display_name": "Python 3"
    },
    "language_info": {
      "name": "python"
    }
  },
  "cells": [
    {
      "cell_type": "markdown",
      "source": [
        "# E-Valueを用いた感度分析"
      ],
      "metadata": {
        "id": "71diknFcnwcY"
      }
    },
    {
      "cell_type": "code",
      "source": [
        "import pandas as pd\n",
        "import numpy as np\n",
        "import matplotlib.pyplot as plt\n",
        "import random\n",
        "\n",
        "#サンプルのマーケティングデータセットを作成\n",
        "random.seed(0)\n",
        "n = 500 #顧客数\n",
        "data = {\n",
        "    'CustomerID': range(1, n + 1), #顧客IDの設定\n",
        "    'EmailCampaign': [random.choice([0, 1]) for _ in range(n)], #処置変数（顧客がメールを受け取った場合は1、それ以外の場合は0）\n",
        "    'Purchase': [random.choice([0, 1]) for _ in range(n)] #結果変数（顧客が購入した場合は1、それ以外の場合は0）\n",
        "}\n",
        "\n",
        "df = pd.DataFrame(data)"
      ],
      "metadata": {
        "id": "YOUJ_7qk0_K0"
      },
      "execution_count": null,
      "outputs": []
    },
    {
      "cell_type": "code",
      "source": [
        "purchase_email = df[df['EmailCampaign'] == 1]['Purchase'].mean()\n",
        "purchase_control = df[df['EmailCampaign'] == 0]['Purchase'].mean()\n",
        "rr_treatment_effect = purchase_email / purchase_control\n",
        "rr_treatment_effect"
      ],
      "metadata": {
        "colab": {
          "base_uri": "https://localhost:8080/"
        },
        "id": "rHFVr5Ig1Iad",
        "outputId": "ae6bf096-b4d8-48e8-a4f0-d40ec2d59a1e"
      },
      "execution_count": null,
      "outputs": [
        {
          "output_type": "execute_result",
          "data": {
            "text/plain": [
              "1.1089238845144356"
            ]
          },
          "metadata": {},
          "execution_count": 2
        }
      ]
    },
    {
      "cell_type": "code",
      "source": [
        "e_value = rr_treatment_effect + np.sqrt(rr_treatment_effect * (rr_treatment_effect - 1))\n",
        "e_value"
      ],
      "metadata": {
        "colab": {
          "base_uri": "https://localhost:8080/"
        },
        "id": "ASbwG3xF1Mdb",
        "outputId": "3d7e8347-f96c-40a3-93a7-ddb6a224e6d0"
      },
      "execution_count": null,
      "outputs": [
        {
          "output_type": "execute_result",
          "data": {
            "text/plain": [
              "1.4564699924370386"
            ]
          },
          "metadata": {},
          "execution_count": 4
        }
      ]
    }
  ]
}